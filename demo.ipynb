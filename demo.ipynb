{
 "cells": [
  {
   "cell_type": "markdown",
   "metadata": {},
   "source": [
    "# Prototype Climate Impact Lab Interface"
   ]
  },
  {
   "cell_type": "markdown",
   "metadata": {},
   "source": [
    "## Workspace Setup"
   ]
  },
  {
   "cell_type": "markdown",
   "metadata": {},
   "source": [
    "Import some python modules"
   ]
  },
  {
   "cell_type": "code",
   "execution_count": 1,
   "metadata": {
    "collapsed": false
   },
   "outputs": [],
   "source": [
    "%matplotlib inline\n",
    "from matplotlib import pyplot as plt\n",
    "import prototype"
   ]
  },
  {
   "cell_type": "markdown",
   "metadata": {},
   "source": [
    "## Connect to the API"
   ]
  },
  {
   "cell_type": "markdown",
   "metadata": {},
   "source": [
    "Authenticate with the [prototype] API, and define how you want to use the system"
   ]
  },
  {
   "cell_type": "code",
   "execution_count": 2,
   "metadata": {
    "collapsed": false
   },
   "outputs": [
    {
     "name": "stdout",
     "output_type": "stream",
     "text": [
      "API configuration updated\n"
     ]
    }
   ],
   "source": [
    "api = prototype.ClimateImpactLabDataAPI(\n",
    "    username='mdelgado', \n",
    "    password='*********')\n",
    "\n",
    "api.configure(sample='median', location='OSDC', priority='low')"
   ]
  },
  {
   "cell_type": "markdown",
   "metadata": {},
   "source": [
    "## Retrieve formatted Climate Impact Lab variables"
   ]
  },
  {
   "cell_type": "code",
   "execution_count": 3,
   "metadata": {
    "collapsed": false
   },
   "outputs": [],
   "source": [
    "# mortality regression parameters\n",
    "alpha  = api.get_variable('alpha')\n",
    "gamma1 = api.get_variable('gamma1')\n",
    "gamma2 = api.get_variable('gamma2')\n",
    "gamma3 = api.get_variable('gamma3')\n",
    "\n",
    "# GCP-wide socioeconomic parameters\n",
    "avg_days_per_bin = api.get_variable('avg_days_per_bin')\n",
    "gdp_per_capita   = api.get_variable('gdppc')\n",
    "pop_density      = api.get_variable('popdens')\n",
    "\n",
    "# Climate variables\n",
    "temp = api.get_variable('temp')"
   ]
  },
  {
   "cell_type": "code",
   "execution_count": 4,
   "metadata": {
    "collapsed": false
   },
   "outputs": [
    {
     "data": {
      "text/plain": [
       "OrderedDict([('symbol', 'T'), ('description', 'NASA downscaled climate data')])"
      ]
     },
     "execution_count": 4,
     "metadata": {},
     "output_type": "execute_result"
    }
   ],
   "source": [
    "# Get variable attributes\n",
    "temp.attrs"
   ]
  },
  {
   "cell_type": "markdown",
   "metadata": {},
   "source": [
    "## Do math with Impact Lab variables"
   ]
  },
  {
   "cell_type": "code",
   "execution_count": 5,
   "metadata": {
    "collapsed": false
   },
   "outputs": [],
   "source": [
    "# From the NAS mortality presentation...\n",
    "\n",
    "betahat = alpha+gamma1*avg_days_per_bin+gamma2*(gdp_per_capita.ln())+gamma3*(pop_density.ln())"
   ]
  },
  {
   "cell_type": "code",
   "execution_count": 6,
   "metadata": {
    "collapsed": true
   },
   "outputs": [],
   "source": [
    "# define how your new variable should look\n",
    "betahat.symbol = '\\\\hat{{\\\\beta}}'"
   ]
  },
  {
   "cell_type": "code",
   "execution_count": 7,
   "metadata": {
    "collapsed": false
   },
   "outputs": [
    {
     "data": {
      "text/latex": [
       "$\\hat{{\\beta}}_{bins,adm2,time} = \\alpha_{bins} + \\left({{\\gamma_1}}_{bins}\\right)\\left(AvgDaysPerBin_{bins,adm2,time}\\right) + \\left({{\\gamma_2}}_{bins}\\right)\\left(\\ln{\\left(GdpPC_{adm2,time}\\right)}\\right) + \\left({{\\gamma_3}}_{bins}\\right)\\left(\\ln{\\left(PopDensity_{adm2,time}\\right)}\\right)$"
      ],
      "text/plain": [
       "<IPython.core.display.Latex object>"
      ]
     },
     "metadata": {},
     "output_type": "display_data"
    }
   ],
   "source": [
    "# show LaTeX for the math we just did\n",
    "betahat.display()"
   ]
  },
  {
   "cell_type": "code",
   "execution_count": 8,
   "metadata": {
    "collapsed": false
   },
   "outputs": [
    {
     "data": {
      "text/plain": [
       "<xarray.DataArray (bins: 12, adm2: 24999, time: 100)>\n",
       "array([[[ 0.13070758,  0.27115357,  0.51208013, ...,  0.75042949,\n",
       "          0.97468369,  0.38654286],\n",
       "        [ 0.45469313, -0.58699997,  0.89999766, ...,  0.0932762 ,\n",
       "          0.27909178,  0.25180471],\n",
       "        [ 0.78249511,  0.6007064 ,  0.31142451, ...,  0.7384293 ,\n",
       "          0.50259999,  0.89219784],\n",
       "        ..., \n",
       "        [ 0.09726135,  0.53286143, -0.23998856, ...,  0.22746566,\n",
       "          1.01581255,  0.27642734],\n",
       "        [ 0.94900355,  0.95514836,  0.81664952, ...,  0.18979607,\n",
       "          0.64628862,  0.35505172],\n",
       "        [-0.28351735,  0.29136219,  0.96207262, ..., -0.39525938,\n",
       "          0.52056722,  0.26820543]],\n",
       "\n",
       "       [[-0.24982154,  0.25459062,  0.18381526, ...,  0.86366869,\n",
       "          1.15629761,  0.52607199],\n",
       "        [ 0.04221185, -0.69654775,  0.49941067, ..., -0.2538949 ,\n",
       "          0.19605259,  0.12404486],\n",
       "        [ 0.68108903,  0.38304013,  0.29892101, ...,  0.66033363,\n",
       "          0.65525907,  0.64782637],\n",
       "        ..., \n",
       "        [ 0.10886929,  0.11420064, -0.76898607, ...,  0.52976564,\n",
       "          0.81398773, -0.02587275],\n",
       "        [ 0.49060749,  0.65472517,  0.90772419, ...,  0.11534893,\n",
       "          0.19195818,  0.27063844],\n",
       "        [-0.82047299, -0.03915025,  0.62043444, ..., -0.33573926,\n",
       "          0.61454831,  0.20731075]],\n",
       "\n",
       "       [[ 0.29334982, -0.1410393 ,  0.06668666, ...,  0.19058335,\n",
       "          0.38035987, -0.76053658],\n",
       "        [ 0.24590676, -0.19187054,  0.33738993, ..., -0.03573067,\n",
       "          0.05934987, -0.36174642],\n",
       "        [ 0.14058797,  0.22807228,  0.02445355, ...,  0.38002263,\n",
       "         -0.05175731,  0.18988073],\n",
       "        ..., \n",
       "        [ 0.26074214,  0.27289792, -0.56491045, ..., -0.66360662,\n",
       "          0.47412097, -0.02909703],\n",
       "        [ 0.23397792,  0.41959969,  0.36822878, ..., -1.09986828,\n",
       "          0.2577988 , -0.15395848],\n",
       "        [-0.01366349, -0.41443745,  0.41451397, ..., -0.53642207,\n",
       "          0.06734171,  0.14076383]],\n",
       "\n",
       "       ..., \n",
       "       [[-1.22909687, -0.16171115, -0.35495874, ...,  0.03058367,\n",
       "          0.83641502,  0.6679868 ],\n",
       "        [-0.64060209, -2.40039114,  0.61196964, ..., -0.91890489,\n",
       "         -0.67590221, -0.14152328],\n",
       "        [ 0.72354879,  0.41586095, -0.04011696, ...,  0.4473447 ,\n",
       "          0.15337609,  0.45083991],\n",
       "        ..., \n",
       "        [-0.93966302, -0.38880867, -1.61066037, ...,  0.12229467,\n",
       "          0.84788684, -0.44109869],\n",
       "        [ 0.9050935 ,  0.50790203,  0.37243353, ...,  0.70626393,\n",
       "         -0.1332156 , -0.12347863],\n",
       "        [-2.13993911, -0.13466855,  0.82092427, ..., -2.03681629,\n",
       "          0.16071452, -0.66681163]],\n",
       "\n",
       "       [[-1.78127977, -0.64995827, -0.70599218, ..., -0.08563787,\n",
       "          0.53846099, -0.03527768],\n",
       "        [-0.96737409, -3.3405469 ,  0.12035706, ..., -1.24401243,\n",
       "         -1.18152117, -1.02750102],\n",
       "        [ 0.43426372,  0.06269273, -0.77531073, ..., -0.07509919,\n",
       "         -0.01719537,  0.41981726],\n",
       "        ..., \n",
       "        [-1.69569958, -0.67028133, -2.24069923, ..., -0.74557355,\n",
       "          0.78917575, -0.96980891],\n",
       "        [ 0.54463694,  0.35235451,  0.05831266, ..., -0.09088725,\n",
       "         -0.45957768, -0.72981302],\n",
       "        [-2.66118488, -0.83070028,  0.461331  , ..., -2.61814683,\n",
       "         -0.45347083, -1.47672656]],\n",
       "\n",
       "       [[ 0.05461305,  0.79718925,  0.60464898, ...,  0.8691447 ,\n",
       "          1.29582956,  1.03214796],\n",
       "        [ 0.50555223, -0.341628  ,  1.15139969, ...,  0.33088638,\n",
       "          0.35190861,  0.4681457 ],\n",
       "        [ 1.23498927,  0.70501668,  0.74332358, ...,  1.03057786,\n",
       "          0.87111314,  1.15050731],\n",
       "        ..., \n",
       "        [ 0.26777543,  0.43157869, -0.0971003 , ...,  0.81305677,\n",
       "          1.24930213,  0.59565844],\n",
       "        [ 0.94444546,  1.06483473,  0.81508081, ...,  0.84482893,\n",
       "          0.82771585,  0.52695798],\n",
       "        [-0.36370791,  0.70637385,  1.00317956, ...,  0.02623079,\n",
       "          0.67527143,  0.47231838]]])\n",
       "Coordinates:\n",
       "  * bins     (bins) int32 0 1 2 3 4 5 6 7 8 9 10 11\n",
       "  * adm2     (adm2) int32 1 2 3 4 5 6 7 8 9 10 11 12 13 14 15 16 17 18 19 20 ...\n",
       "  * time     (time) int32 0 1 2 3 4 5 6 7 8 9 10 11 12 13 14 15 16 17 18 19 ...\n",
       "Attributes:\n",
       "    symbol: \\hat{{\\beta}}"
      ]
     },
     "execution_count": 8,
     "metadata": {},
     "output_type": "execute_result"
    }
   ],
   "source": [
    "# Also, show the result of the calculation\n",
    "betahat.value"
   ]
  },
  {
   "cell_type": "markdown",
   "metadata": {},
   "source": [
    "## Use functions from xArray and the rest of python"
   ]
  },
  {
   "cell_type": "code",
   "execution_count": 9,
   "metadata": {
    "collapsed": false
   },
   "outputs": [
    {
     "data": {
      "image/png": "[encoded data removed]",
      "text/plain": [
       "<matplotlib.figure.Figure at 0x807de10>"
      ]
     },
     "metadata": {},
     "output_type": "display_data"
    }
   ],
   "source": [
    "ax = betahat.value.plot()\n",
    "plt.show(ax)"
   ]
  },
  {
   "cell_type": "markdown",
   "metadata": {},
   "source": [
    "## The next step in the calculation..."
   ]
  },
  {
   "cell_type": "code",
   "execution_count": 10,
   "metadata": {
    "collapsed": true
   },
   "outputs": [],
   "source": [
    "# simplify the representation of betahat:\n",
    "betahat.symbolic = '\\\\hat{{\\\\beta}}'"
   ]
  },
  {
   "cell_type": "code",
   "execution_count": 11,
   "metadata": {
    "collapsed": true
   },
   "outputs": [],
   "source": [
    "# sum betahat*temp across bins\n",
    "mortality = (betahat * temp).sum(dim='bins')\n",
    "\n",
    "# declare a symbol for mortality\n",
    "mortality.symbol = 'M'"
   ]
  },
  {
   "cell_type": "code",
   "execution_count": 12,
   "metadata": {
    "collapsed": false
   },
   "outputs": [
    {
     "data": {
      "text/latex": [
       "$M_{adm2,time} = \\sum_{bins}{\\left\\{\\left(\\hat{{\\beta}}_{bins,adm2,time}\\right)\\left(T_{bins,adm2,time}\\right)\\right\\}}$"
      ],
      "text/plain": [
       "<IPython.core.display.Latex object>"
      ]
     },
     "metadata": {},
     "output_type": "display_data"
    }
   ],
   "source": [
    "mortality.display()"
   ]
  },
  {
   "cell_type": "markdown",
   "metadata": {},
   "source": [
    "Note that the dimensionality of mortality is less than beta and temp in the LaTeX and data:"
   ]
  },
  {
   "cell_type": "code",
   "execution_count": 13,
   "metadata": {
    "collapsed": false
   },
   "outputs": [
    {
     "data": {
      "text/plain": [
       "<xarray.DataArray (adm2: 24999, time: 100)>\n",
       "array([[ -2.92124395e+00,  -1.99362992e+00,  -8.93652801e-01, ...,\n",
       "          1.10621390e+00,   2.57830688e+00,  -2.29306181e+00],\n",
       "       [ -1.38629855e+00,  -7.76493092e+00,   2.03159987e+00, ...,\n",
       "         -3.41893630e+00,  -4.84213829e+00,  -2.45017356e+00],\n",
       "       [  1.56519757e+00,  -2.41087398e-01,  -4.24496624e-01, ...,\n",
       "          1.36587685e+00,  -5.93521188e-01,   2.76255544e+00],\n",
       "       ..., \n",
       "       [ -3.31492736e+00,   6.77445891e-03,  -5.47755159e+00, ...,\n",
       "         -6.10378895e+00,   3.93503051e+00,  -3.73371494e+00],\n",
       "       [  3.06004915e+00,   2.91296446e+00,   3.59191665e+00, ...,\n",
       "         -7.61977078e+00,   5.19491826e-01,  -1.90245230e+00],\n",
       "       [ -7.99817007e+00,  -4.96106865e+00,   3.18680168e+00, ...,\n",
       "         -8.19163235e+00,  -8.54668938e-01,  -8.54509732e-01]])\n",
       "Coordinates:\n",
       "  * adm2     (adm2) int32 1 2 3 4 5 6 7 8 9 10 11 12 13 14 15 16 17 18 19 20 ...\n",
       "  * time     (time) int32 0 1 2 3 4 5 6 7 8 9 10 11 12 13 14 15 16 17 18 19 ...\n",
       "Attributes:\n",
       "    symbol: M"
      ]
     },
     "execution_count": 13,
     "metadata": {},
     "output_type": "execute_result"
    }
   ],
   "source": [
    "mortality.value"
   ]
  },
  {
   "cell_type": "code",
   "execution_count": 14,
   "metadata": {
    "collapsed": false
   },
   "outputs": [
    {
     "data": {
      "image/png": "[encoded data removed]",
      "text/plain": [
       "<matplotlib.figure.Figure at 0xbf5cf98>"
      ]
     },
     "metadata": {},
     "output_type": "display_data"
    }
   ],
   "source": [
    "ax = mortality.value.mean(dim='adm2').plot()\n",
    "plt.show(ax)"
   ]
  }
 ],
 "metadata": {
  "anaconda-cloud": {},
  "kernelspec": {
   "display_name": "Python 2",
   "language": "python",
   "name": "python2"
  },
  "language_info": {
   "codemirror_mode": {
    "name": "ipython",
    "version": 2
   },
   "file_extension": ".py",
   "mimetype": "text/x-python",
   "name": "python",
   "nbconvert_exporter": "python",
   "pygments_lexer": "ipython2",
   "version": "2.7.12"
  }
 },
 "nbformat": 4,
 "nbformat_minor": 1
}
